{
 "cells": [
  {
   "cell_type": "code",
   "execution_count": 2,
   "metadata": {},
   "outputs": [],
   "source": [
    "import geopandas as gpd\n",
    "import pandas as pd"
   ]
  },
  {
   "cell_type": "code",
   "execution_count": null,
   "metadata": {},
   "outputs": [],
   "source": [
    "# Importing TOPO1K as a GeoDataFrame\n",
    "\n",
    "ibb = gpd.GeoDataFrame.from_file('data/ibb.geojson')"
   ]
  },
  {
   "cell_type": "code",
   "execution_count": null,
   "metadata": {},
   "outputs": [],
   "source": [
    "# Clear empty columns\n",
    "\n",
    "empty_cols_ibb = [col for col in ibb.columns if ibb[col].isnull().all()]\n",
    "ibb.drop(empty_cols_ibb, axis = 1, inplace = True)"
   ]
  },
  {
   "cell_type": "code",
   "execution_count": null,
   "metadata": {},
   "outputs": [],
   "source": [
    "# Add IDs to the features\n",
    "\n",
    "Feature_ibb = []\n",
    "\n",
    "for i in range(len(ibb)):\n",
    "    Feature_ibb.append('ibb' + str(i+1))\n",
    "    \n",
    "ibb['fid'] = Feature_ibb"
   ]
  },
  {
   "cell_type": "code",
   "execution_count": null,
   "metadata": {},
   "outputs": [],
   "source": [
    "# Drop unnecessary columns\n",
    "\n",
    "ibb.drop(['OBJECTID','GLOBALID','SHAPE_Leng','SHAPE_Area'],axis=1,inplace=True)"
   ]
  },
  {
   "cell_type": "code",
   "execution_count": null,
   "metadata": {},
   "outputs": [],
   "source": [
    "# building_num column has NaN values that cause datatype being float instead of an integer. So it needs to be fixed.\n",
    "\n",
    "ibb['building_num'].fillna(0,inplace=True)\n",
    "ibb['building_num'] = ibb['building_num'].astype('int64')"
   ]
  },
  {
   "cell_type": "code",
   "execution_count": null,
   "metadata": {},
   "outputs": [],
   "source": [
    "# Change special Turkish characters to Latin corresponding ones\n",
    "\n",
    "tr2en = {'ğ':'g', 'ç':'c', 'ş':'s', 'ü':'u', 'ö':'o', 'ı':'i', 'Ğ':'G', 'Ç':'C', 'Ş':'S', 'Ü':'U', 'Ö':'O', 'İ':'I'}\n",
    "\n",
    "for i in ibb.columns:\n",
    "    try:\n",
    "        ibb.replace({i:tr2en}, regex=True, inplace=True)\n",
    "    except Exception:\n",
    "        pass"
   ]
  },
  {
   "cell_type": "code",
   "execution_count": 3,
   "metadata": {},
   "outputs": [],
   "source": [
    "#Import OSM as GeoDataFrame\n",
    "\n",
    "osm = gpd.GeoDataFrame.from_file('data/osm.geojson')"
   ]
  },
  {
   "cell_type": "code",
   "execution_count": 4,
   "metadata": {},
   "outputs": [],
   "source": [
    "# take only buildings of OSM data\n",
    "\n",
    "osm = osm[osm[\"building\"].notna()]"
   ]
  },
  {
   "cell_type": "code",
   "execution_count": 5,
   "metadata": {},
   "outputs": [],
   "source": [
    "# take only buildings of OSM data\n",
    "\n",
    "osm = osm[osm['building'] != 'transportation']"
   ]
  },
  {
   "cell_type": "code",
   "execution_count": 6,
   "metadata": {},
   "outputs": [],
   "source": [
    "# clear empty columns\n",
    "\n",
    "empty_cols_osm = [col for col in osm.columns if osm[col].isnull().all()]\n",
    "osm.drop(empty_cols_osm, axis = 1, inplace = True)"
   ]
  },
  {
   "cell_type": "code",
   "execution_count": 7,
   "metadata": {},
   "outputs": [],
   "source": [
    "# Change special Turkish characters to Latin correspondin ones\n",
    "\n",
    "tr2en = {'ğ':'g', 'ç':'c', 'ş':'s', 'ü':'u', 'ö':'o', 'ı':'i', 'Ğ':'G', 'Ç':'C', 'Ş':'S', 'Ü':'U', 'Ö':'O', 'İ':'I'}\n",
    "\n",
    "for i in osm.columns:\n",
    "    try:\n",
    "        osm.replace({i:tr2en}, regex=True, inplace=True)\n",
    "    except Exception:\n",
    "        pass"
   ]
  },
  {
   "cell_type": "code",
   "execution_count": 8,
   "metadata": {},
   "outputs": [],
   "source": [
    "# Add IDs to the features\n",
    "\n",
    "Feature_osm = []\n",
    "\n",
    "for i in range(len(osm)):\n",
    "    Feature_osm.append('osm' + str(i+1))\n",
    "    \n",
    "osm['fid'] = Feature_osm"
   ]
  },
  {
   "cell_type": "code",
   "execution_count": 9,
   "metadata": {},
   "outputs": [],
   "source": [
    "# Arrange OSM ID column and delete '@' character from column name\n",
    "\n",
    "osm['osmid'] = osm['id'].str.split('/', expand=True)[1]\n",
    "osm.drop(['@id','id'],axis=1, inplace=True)"
   ]
  },
  {
   "cell_type": "code",
   "execution_count": 10,
   "metadata": {},
   "outputs": [],
   "source": [
    "# Fix unwanted characters from column names\n",
    "\n",
    "osm.columns = osm.columns.str.replace(':','_')\n",
    "osm.columns = osm.columns.str.replace('@','')"
   ]
  },
  {
   "cell_type": "code",
   "execution_count": 11,
   "metadata": {},
   "outputs": [],
   "source": [
    "# Fix format of timestamps of features\n",
    "\n",
    "osm['timestamp'] = pd.to_datetime(osm['timestamp']).dt.strftime('%Y-%m-%d')"
   ]
  },
  {
   "cell_type": "code",
   "execution_count": null,
   "metadata": {},
   "outputs": [],
   "source": [
    "# Import TOPO25 data as GeoDataFrame\n",
    "\n",
    "hgm = gpd.GeoDataFrame.from_file('data/hgm.geojson')"
   ]
  },
  {
   "cell_type": "code",
   "execution_count": null,
   "metadata": {},
   "outputs": [],
   "source": [
    "# Clear empty columns\n",
    "\n",
    "empty_cols_hgm = [col for col in hgm.columns if hgm[col].isnull().all()]\n",
    "hgm.drop(empty_cols_hgm, axis = 1, inplace = True)"
   ]
  },
  {
   "cell_type": "code",
   "execution_count": null,
   "metadata": {},
   "outputs": [],
   "source": [
    "# Add IDs to the features\n",
    "\n",
    "Feature_hgm = []\n",
    "\n",
    "for i in range(len(hgm)):\n",
    "    Feature_hgm.append('hgm' + str(i+1))\n",
    "\n",
    "hgm['fid'] = Feature_hgm"
   ]
  },
  {
   "cell_type": "code",
   "execution_count": null,
   "metadata": {},
   "outputs": [],
   "source": [
    "# Veri setinde yer alan Türkçe karakterleri latin karakterlerle değiştir.\n",
    "\n",
    "tr2en = {'ğ':'g', 'ç':'c', 'ş':'s', 'ü':'u', 'ö':'o', 'ı':'i', 'Ğ':'G', 'Ç':'C', 'Ş':'S', 'Ü':'U', 'Ö':'O', 'İ':'I'}\n",
    "\n",
    "for i in hgm.columns:\n",
    "    try:\n",
    "        hgm.replace({i:tr2en}, regex=True, inplace=True)\n",
    "    except Exception:\n",
    "        pass"
   ]
  },
  {
   "cell_type": "code",
   "execution_count": null,
   "metadata": {},
   "outputs": [],
   "source": [
    "# Export files as GeoJSON\n",
    "\n",
    "ibb.to_file('data/clean_ibb.geojson', driver='GeoJSON')\n",
    "osm.to_file('data/clean_osm.geojson', driver='GeoJSON')\n",
    "hgm.to_file('data/clean_hgm.geojson', driver='GeoJSON')"
   ]
  }
 ],
 "metadata": {
  "kernelspec": {
   "display_name": "Python [conda env:myenv]",
   "language": "python",
   "name": "conda-env-myenv-py"
  },
  "language_info": {
   "codemirror_mode": {
    "name": "ipython",
    "version": 3
   },
   "file_extension": ".py",
   "mimetype": "text/x-python",
   "name": "python",
   "nbconvert_exporter": "python",
   "pygments_lexer": "ipython3",
   "version": "3.7.7"
  }
 },
 "nbformat": 4,
 "nbformat_minor": 4
}
