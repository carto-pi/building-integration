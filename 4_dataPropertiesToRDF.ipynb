{
 "cells": [
  {
   "cell_type": "code",
   "execution_count": 1,
   "metadata": {},
   "outputs": [],
   "source": [
    "import geopandas as gpd"
   ]
  },
  {
   "cell_type": "code",
   "execution_count": 2,
   "metadata": {},
   "outputs": [],
   "source": [
    "# Import TOPO1K, OSM and TOPO25K as GeoDataFrames\n",
    "\n",
    "ibb = gpd.GeoDataFrame.from_file('data/clean_ibb.geojson')\n",
    "osm = gpd.GeoDataFrame.from_file('data/clean_osm.geojson')\n",
    "hgm = gpd.GeoDataFrame.from_file('data/clean_hgm.geojson')"
   ]
  },
  {
   "cell_type": "code",
   "execution_count": 3,
   "metadata": {},
   "outputs": [],
   "source": [
    "# take data columns\n",
    "\n",
    "ibb_col = ibb.columns.tolist()\n",
    "osm_col = osm.columns.tolist()\n",
    "hgm_col = hgm.columns.tolist()"
   ]
  },
  {
   "cell_type": "code",
   "execution_count": 4,
   "metadata": {},
   "outputs": [],
   "source": [
    "# create dataproperties from data columns as RDFs\n",
    "\n",
    "cols = ibb_col + osm_col + hgm_col\n",
    "cols = list(set(cols))\n",
    "\n",
    "cols.remove('geometry')\n",
    "\n",
    "dataProp = ['spo:has' + i[0].upper() + i[1:] + ' a owl:DatatypeProperty .' for i in cols]\n",
    "\n",
    "with open('data/datatypeProperties.ttl', 'w') as output:\n",
    "        for i in range(len(dataProp)):\n",
    "            output.write('\\n' + dataProp[i] + '\\n')"
   ]
  }
 ],
 "metadata": {
  "kernelspec": {
   "display_name": "Python [conda env:myenv]",
   "language": "python",
   "name": "conda-env-myenv-py"
  },
  "language_info": {
   "codemirror_mode": {
    "name": "ipython",
    "version": 3
   },
   "file_extension": ".py",
   "mimetype": "text/x-python",
   "name": "python",
   "nbconvert_exporter": "python",
   "pygments_lexer": "ipython3",
   "version": "3.7.7"
  }
 },
 "nbformat": 4,
 "nbformat_minor": 4
}
