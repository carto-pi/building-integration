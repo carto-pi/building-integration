{
 "cells": [
  {
   "cell_type": "code",
   "execution_count": null,
   "metadata": {},
   "outputs": [],
   "source": [
    "# Merge all Turtle files into the Geospatial Ontology\n",
    "\n",
    "with open('data/SpatialOnt_HEAD.ttl','r') as ont:\n",
    "    ontology = ont.read()\n",
    "    \n",
    "with open('data/datatypeProperties.ttl','r') as data:\n",
    "    dataProperties = data.read()\n",
    "\n",
    "with open('data/individuals.ttl','r') as ind:\n",
    "    indviduals = ind.read()\n",
    "\n",
    "with open('data/relations.ttl','r') as rel:\n",
    "    relations = rel.read()\n",
    "    \n",
    "with open('data/links.ttl','r') as lin:\n",
    "    links = lin.read()\n",
    "    \n",
    "with open('data/SpatialOnt.ttl','w') as file:\n",
    "    file.write(ontology + dataProperties + indviduals + relations + links)"
   ]
  },
  {
   "cell_type": "code",
   "execution_count": null,
   "metadata": {},
   "outputs": [],
   "source": [
    "# Check file if there is an error\n",
    "\n",
    "from rdflib import Graph\n",
    "\n",
    "g = Graph()\n",
    "g.parse(\"data/SpatialOnt.ttl\",  format='turtle')\n",
    "\n",
    "g.serialize('data/SpatialOnt.ttl', format='turtle')"
   ]
  }
 ],
 "metadata": {
  "kernelspec": {
   "display_name": "Python [conda env:myenv]",
   "language": "python",
   "name": "conda-env-myenv-py"
  },
  "language_info": {
   "codemirror_mode": {
    "name": "ipython",
    "version": 3
   },
   "file_extension": ".py",
   "mimetype": "text/x-python",
   "name": "python",
   "nbconvert_exporter": "python",
   "pygments_lexer": "ipython3",
   "version": "3.7.7"
  }
 },
 "nbformat": 4,
 "nbformat_minor": 4
}
