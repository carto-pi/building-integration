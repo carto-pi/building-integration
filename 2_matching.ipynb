{
 "cells": [
  {
   "cell_type": "code",
   "execution_count": 1,
   "metadata": {},
   "outputs": [],
   "source": [
    "import pandas as pd\n",
    "import geopandas as gpd"
   ]
  },
  {
   "cell_type": "code",
   "execution_count": 2,
   "metadata": {},
   "outputs": [],
   "source": [
    "# Import TOPO1K and OSM as GeoDataFrame\n",
    "\n",
    "ibb = gpd.GeoDataFrame.from_file('data/clean_ibb.geojson')\n",
    "osm = gpd.GeoDataFrame.from_file('data/clean_osm.geojson')"
   ]
  },
  {
   "cell_type": "code",
   "execution_count": null,
   "metadata": {},
   "outputs": [],
   "source": [
    "# Take desired columns into a new dataframe\n",
    "\n",
    "ibb_int = ibb[['fid','geometry']].copy()\n",
    "ibb_int['ibb_area'] = ibb_int['geometry'].area\n",
    "osm_int = osm[['fid','geometry']].copy()\n",
    "osm_int['osm_area'] = osm_int['geometry'].area"
   ]
  },
  {
   "cell_type": "code",
   "execution_count": null,
   "metadata": {},
   "outputs": [],
   "source": [
    "# Perform intersection analysis between TOPO1K and OSM\n",
    "\n",
    "int_io = gpd.overlay(ibb_int, osm_int, how = 'intersection')"
   ]
  },
  {
   "cell_type": "code",
   "execution_count": null,
   "metadata": {},
   "outputs": [],
   "source": [
    "# Calculate areas and intesection ratio\n",
    "\n",
    "int_io['int_area'] = int_io['geometry'].area\n",
    "int_io['int_ibb'] = int_io['int_area']/int_io['ibb_area']\n",
    "int_io['int_osm'] = int_io['int_area']/int_io['osm_area']\n",
    "int_io['ratio'] = int_io['int_area']/(int_io[['ibb_area','osm_area']].min(axis=1))"
   ]
  },
  {
   "cell_type": "code",
   "execution_count": null,
   "metadata": {},
   "outputs": [],
   "source": [
    "# Identify features which has above 0.35 (35%) intersection ratio\n",
    "\n",
    "int_io['match_ibb_osm'] = int_io['ratio'].apply(lambda x: 'Match' if x >= 0.35 else 'NoMatch')"
   ]
  },
  {
   "cell_type": "code",
   "execution_count": null,
   "metadata": {},
   "outputs": [],
   "source": [
    "# Take desired features to a new dataframe\n",
    "\n",
    "match_ibb_osm = int_io[int_io['match_ibb_osm'] == 'Match'][['fid_1','fid_2']]"
   ]
  },
  {
   "cell_type": "code",
   "execution_count": null,
   "metadata": {},
   "outputs": [],
   "source": [
    "# reset index of new dataframe\n",
    "\n",
    "match_ibb_osm.reset_index(drop=True)"
   ]
  },
  {
   "cell_type": "code",
   "execution_count": null,
   "metadata": {},
   "outputs": [],
   "source": [
    "# Export dataframe as CSV file\n",
    "\n",
    "match_ibb_osm.to_csv('data/match_ibb_osm.csv')"
   ]
  },
  {
   "cell_type": "code",
   "execution_count": null,
   "metadata": {},
   "outputs": [],
   "source": [
    "# Import TOPO25K as GeoDataFrame\n",
    "\n",
    "hgm = gpd.GeoDataFrame.from_file('data/clean_hgm.geojson')"
   ]
  },
  {
   "cell_type": "code",
   "execution_count": null,
   "metadata": {},
   "outputs": [],
   "source": [
    "# Split TOPO25K into two file. One contains buildings and another one contains settlement area \n",
    "\n",
    "hgm_yerlesim = hgm[hgm['feature_name'] == 'YERLESIM_YERI'] # Settlement area\n",
    "hgm_bina = hgm[hgm['feature_name'] != 'YERLESIM_YERI'] # Building"
   ]
  },
  {
   "cell_type": "code",
   "execution_count": null,
   "metadata": {},
   "outputs": [],
   "source": [
    "# Take desired columns into a new dataframe\n",
    "\n",
    "osm_int = osm[['fid','geometry']].copy()\n",
    "osm_int['osm_area'] = osm_int['geometry'].area\n",
    "hgm_int = hgm_bina[['fid','geometry']].copy()\n",
    "hgm_int['hgm_area'] = hgm_int['geometry'].area"
   ]
  },
  {
   "cell_type": "code",
   "execution_count": null,
   "metadata": {},
   "outputs": [],
   "source": [
    "# Perform intersection analysis between OSM and TOPO25K buildings\n",
    "\n",
    "int_oh = gpd.overlay(osm_int, hgm_int, how = 'intersection')"
   ]
  },
  {
   "cell_type": "code",
   "execution_count": null,
   "metadata": {},
   "outputs": [],
   "source": [
    "# Calculate areas and intesection ratio\n",
    "\n",
    "int_oh['int_area'] = int_oh['geometry'].area\n",
    "int_oh['int_osm'] = int_oh['int_area']/int_oh['osm_area']\n",
    "int_oh['int_hgm'] = int_oh['int_area']/int_oh['hgm_area']\n",
    "int_oh['ratio'] = int_oh['int_area']/(int_oh[['osm_area','hgm_area']].min(axis=1))"
   ]
  },
  {
   "cell_type": "code",
   "execution_count": null,
   "metadata": {},
   "outputs": [],
   "source": [
    "# Identify features which has above 0.35 (35%) intersection ratio\n",
    "\n",
    "int_oh['match_osm_hgm'] = int_oh['ratio'].apply(lambda x: 'Match' if x >= 0.35 else 'NoMatch')"
   ]
  },
  {
   "cell_type": "code",
   "execution_count": null,
   "metadata": {},
   "outputs": [],
   "source": [
    "# Take desired features to a new dataframe\n",
    "\n",
    "match_osm_hgm = int_oh[int_oh['match_osm_hgm'] == 'Match'][['fid_1','fid_2']]"
   ]
  },
  {
   "cell_type": "code",
   "execution_count": null,
   "metadata": {},
   "outputs": [],
   "source": [
    "# reset index of new dataframe\n",
    "\n",
    "match_osm_hgm.reset_index(drop=True)"
   ]
  },
  {
   "cell_type": "code",
   "execution_count": null,
   "metadata": {},
   "outputs": [],
   "source": [
    "# Export dataframe as CSV file\n",
    "\n",
    "match_osm_hgm.to_csv('data/match_osm_hgm.csv')"
   ]
  },
  {
   "cell_type": "code",
   "execution_count": null,
   "metadata": {},
   "outputs": [],
   "source": [
    "# Take desired columns into a new dataframe\n",
    "\n",
    "hgm_int_yer = hgm_yerlesim[['fid','geometry']].copy()\n",
    "hgm_int_yer['hgm_area'] = hgm_int_yer['geometry'].area"
   ]
  },
  {
   "cell_type": "code",
   "execution_count": null,
   "metadata": {},
   "outputs": [],
   "source": [
    "# Perform intersection analysis between OSM and TOPO25K settlement area\n",
    "\n",
    "int_oh_yer = gpd.overlay(osm_int, hgm_int_yer, how = 'intersection')"
   ]
  },
  {
   "cell_type": "code",
   "execution_count": null,
   "metadata": {},
   "outputs": [],
   "source": [
    "# Calculate areas and intesection ratio\n",
    "\n",
    "int_oh_yer['int_area'] = int_oh_yer['geometry'].area\n",
    "int_oh_yer['int_osm'] = int_oh_yer['int_area']/int_oh_yer['osm_area']\n",
    "int_oh_yer['int_hgm'] = int_oh_yer['int_area']/int_oh_yer['hgm_area']\n",
    "int_oh_yer['ratio'] = int_oh_yer['int_area']/(int_oh_yer[['osm_area','hgm_area']].min(axis=1))"
   ]
  },
  {
   "cell_type": "code",
   "execution_count": null,
   "metadata": {},
   "outputs": [],
   "source": [
    "# Identify features which has above 0.35 (35%) intersection ratio\n",
    "\n",
    "int_oh_yer['match_osm_hgm_yer'] = int_oh_yer['ratio'].apply(lambda x: 'Match' if x >= 0.35 else 'NoMatch')"
   ]
  },
  {
   "cell_type": "code",
   "execution_count": null,
   "metadata": {},
   "outputs": [],
   "source": [
    "# Take desired features to a new dataframe\n",
    "\n",
    "match_osm_hgm_yer = int_oh_yer[int_oh_yer['match_osm_hgm_yer'] == 'Match'][['fid_1','fid_2']]"
   ]
  },
  {
   "cell_type": "code",
   "execution_count": null,
   "metadata": {},
   "outputs": [],
   "source": [
    "# reset index of new dataframe\n",
    "\n",
    "match_osm_hgm_yer.reset_index(drop=True)"
   ]
  },
  {
   "cell_type": "code",
   "execution_count": null,
   "metadata": {},
   "outputs": [],
   "source": [
    "# Export dataframe as CSV file\n",
    "\n",
    "match_osm_hgm_yer.to_csv('data/match_osm_hgm_yer.csv')"
   ]
  }
 ],
 "metadata": {
  "kernelspec": {
   "display_name": "Python [conda env:myenv]",
   "language": "python",
   "name": "conda-env-myenv-py"
  },
  "language_info": {
   "codemirror_mode": {
    "name": "ipython",
    "version": 3
   },
   "file_extension": ".py",
   "mimetype": "text/x-python",
   "name": "python",
   "nbconvert_exporter": "python",
   "pygments_lexer": "ipython3",
   "version": "3.7.7"
  }
 },
 "nbformat": 4,
 "nbformat_minor": 4
}
