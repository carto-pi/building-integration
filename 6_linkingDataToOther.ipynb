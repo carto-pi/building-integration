{
 "cells": [
  {
   "cell_type": "code",
   "execution_count": 1,
   "metadata": {},
   "outputs": [],
   "source": [
    "import geopandas as gpd\n",
    "import pandas as pd"
   ]
  },
  {
   "cell_type": "code",
   "execution_count": null,
   "metadata": {},
   "outputs": [],
   "source": [
    "#pd.set_option('display.max_columns', None)"
   ]
  },
  {
   "cell_type": "code",
   "execution_count": 2,
   "metadata": {},
   "outputs": [],
   "source": [
    "ibb = gpd.GeoDataFrame.from_file('data/clean_ibb.geojson')\n",
    "osm = gpd.GeoDataFrame.from_file('data/clean_osm.geojson')\n",
    "hgm = gpd.GeoDataFrame.from_file('data/clean_hgm.geojson')"
   ]
  },
  {
   "cell_type": "code",
   "execution_count": 3,
   "metadata": {},
   "outputs": [],
   "source": [
    "osm['wp'] = osm.wikipedia[osm['wikipedia'].astype(str).str.contains('en:')].str.replace(\" \",\"_\").str.replace(\"en:\",\"dbr:\")\n",
    "osm_wp1 = osm[['fid','wp']][osm['wp'].notnull()]\n",
    "osm['wp'] = ('dbr:' + osm['wikipedia_en'][osm['wikipedia_en'].notnull()].str.replace(\" \",\"_\"))\n",
    "osm_wp2 = osm[['fid','wp']][osm['wp'].notnull()]\n",
    "osm_wp = pd.concat([osm_wp1,osm_wp2],ignore_index=True)\n",
    "dbpedia = [('idt:' + osm_wp['fid'][i] + ' owl:sameAs ' + osm_wp['wp'][i] + ' .' ) for i in range(len(osm_wp))]"
   ]
  },
  {
   "cell_type": "code",
   "execution_count": 4,
   "metadata": {},
   "outputs": [],
   "source": [
    "osm['wd'] = ('<https://www.wikidata.org/wiki/' + osm['wikidata'][osm['wikidata'].notnull()] +'>')\n",
    "osm_wd = osm[['fid','wd']][osm['wd'].notnull()].reset_index(drop=True)\n",
    "wikidata = [('idt:' + osm_wd['fid'][i] + ' owl:sameAs ' + osm_wd['wd'][i] + ' .' ) for i in range(len(osm_wd))]"
   ]
  },
  {
   "cell_type": "code",
   "execution_count": 5,
   "metadata": {},
   "outputs": [],
   "source": [
    "ibbDbpedia = [('idt:' + ibb['fid'][i] + ' dct:subject dbc:Fatih .') for i in range(len(ibb))]"
   ]
  },
  {
   "cell_type": "code",
   "execution_count": 6,
   "metadata": {},
   "outputs": [],
   "source": [
    "yago = [('idt:' + ibb['fid'][i] + ' schema:containedInPlace yago:Fatih .') for i in range(len(ibb))]"
   ]
  },
  {
   "cell_type": "code",
   "execution_count": null,
   "metadata": {},
   "outputs": [],
   "source": [
    "links = dbpedia + wikidata + ibbDbpedia + yago\n",
    "\n",
    "with open('data/links.ttl', 'w') as output:\n",
    "        for i in range(len(links)):\n",
    "            output.write('\\n' + links[i] + '\\n')"
   ]
  }
 ],
 "metadata": {
  "kernelspec": {
   "display_name": "Python [conda env:myenv]",
   "language": "python",
   "name": "conda-env-myenv-py"
  },
  "language_info": {
   "codemirror_mode": {
    "name": "ipython",
    "version": 3
   },
   "file_extension": ".py",
   "mimetype": "text/x-python",
   "name": "python",
   "nbconvert_exporter": "python",
   "pygments_lexer": "ipython3",
   "version": "3.7.7"
  }
 },
 "nbformat": 4,
 "nbformat_minor": 4
}
