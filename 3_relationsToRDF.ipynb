{
 "cells": [
  {
   "cell_type": "code",
   "execution_count": 1,
   "metadata": {},
   "outputs": [],
   "source": [
    "import pandas as pd"
   ]
  },
  {
   "cell_type": "code",
   "execution_count": 2,
   "metadata": {},
   "outputs": [],
   "source": [
    "# Import TOPO1K and OSM matching file as dataframe and edit column names\n",
    "\n",
    "df_ibb_osm = pd.read_csv(\"data/match_ibb_osm.csv\")[['fid_1','fid_2']]\n",
    "df_ibb_osm.rename(columns={'fid_1':'reference','fid_2':'target'},inplace=True)"
   ]
  },
  {
   "cell_type": "code",
   "execution_count": 3,
   "metadata": {},
   "outputs": [],
   "source": [
    "# Calculate relation counts between features\n",
    "\n",
    "df_ibb_osm['count_ref'] = df_ibb_osm['reference'].map(df_ibb_osm['reference'].value_counts())\n",
    "df_ibb_osm['count_tar'] = df_ibb_osm['target'].map(df_ibb_osm['target'].value_counts())"
   ]
  },
  {
   "cell_type": "code",
   "execution_count": 4,
   "metadata": {},
   "outputs": [],
   "source": [
    "# Identify relation types\n",
    "\n",
    "a=[]\n",
    "for i,row in df_ibb_osm.iterrows():\n",
    "    if row['count_ref'] == 1 and row['count_tar'] == 1:\n",
    "        a.append('sameAsRelation')\n",
    "    elif row['count_ref'] == 1 and row['count_tar'] > 1:\n",
    "        a.append('subSetOf')\n",
    "    elif row['count_ref'] > 1 and row['count_tar'] == 1:\n",
    "        a.append('superSetOf')\n",
    "    elif row['count_ref'] > 1 and row['count_tar'] > 1:\n",
    "        a.append('multipleRelation')\n",
    "        \n",
    "df_ibb_osm['type'] = a"
   ]
  },
  {
   "cell_type": "code",
   "execution_count": 6,
   "metadata": {},
   "outputs": [],
   "source": [
    "# If any building has a multiple relation with other buildings, all the other relations must also be multiple with them\n",
    "\n",
    "mrr = list(set(df_ibb_osm[df_ibb_osm['type'] == 'multipleRelation']['reference'].to_list()))\n",
    "mrt = list(set(df_ibb_osm[df_ibb_osm['type'] == 'multipleRelation']['target'].to_list()))\n",
    "not_mrr = df_ibb_osm[df_ibb_osm['type'] != 'multipleRelation']['reference']\n",
    "not_mrt = df_ibb_osm[df_ibb_osm['type'] != 'multipleRelation']['target']\n",
    "change_index = list(set(not_mrr[not_mrr.isin(mrr)].index.to_list() + not_mrt[not_mrt.isin(mrt)].index.to_list()))\n",
    "df_ibb_osm.loc[change_index,'type'] = 'multipleRelation'"
   ]
  },
  {
   "cell_type": "code",
   "execution_count": 8,
   "metadata": {},
   "outputs": [],
   "source": [
    "# Import OSM and TOPO25K building matching file as dataframe and edit column names\n",
    "\n",
    "df_osm_hgm = pd.read_csv(\"data/match_osm_hgm.csv\")[['fid_1','fid_2']]\n",
    "df_osm_hgm.rename(columns={'fid_1':'reference','fid_2':'target'},inplace=True)"
   ]
  },
  {
   "cell_type": "code",
   "execution_count": 9,
   "metadata": {},
   "outputs": [],
   "source": [
    "# Calculate relation counts between features\n",
    "\n",
    "df_osm_hgm['count_ref'] = df_osm_hgm['reference'].map(df_osm_hgm['reference'].value_counts())\n",
    "df_osm_hgm['count_tar'] = df_osm_hgm['target'].map(df_osm_hgm['target'].value_counts())"
   ]
  },
  {
   "cell_type": "code",
   "execution_count": 10,
   "metadata": {},
   "outputs": [],
   "source": [
    "# Identify relation types\n",
    "\n",
    "a=[]\n",
    "for i,row in df_osm_hgm.iterrows():\n",
    "    if row['count_ref'] == 1 and row['count_tar'] == 1:\n",
    "        a.append('sameAsRelation')\n",
    "    elif row['count_ref'] == 1 and row['count_tar'] > 1:\n",
    "        a.append('subSetOf')\n",
    "    elif row['count_ref'] > 1 and row['count_tar'] == 1:\n",
    "        a.append('superSetOf')\n",
    "    elif row['count_ref'] > 1 and row['count_tar'] > 1:\n",
    "        a.append('multipleRelation')\n",
    "        \n",
    "df_osm_hgm['type'] = a"
   ]
  },
  {
   "cell_type": "code",
   "execution_count": 12,
   "metadata": {},
   "outputs": [],
   "source": [
    "# If any building has a multiple relation with other buildings, all the other relations must also be multiple with them\n",
    "\n",
    "mrr = list(set(df_osm_hgm[df_osm_hgm['type'] == 'multipleRelation']['reference'].to_list()))\n",
    "mrt = list(set(df_osm_hgm[df_osm_hgm['type'] == 'multipleRelation']['target'].to_list()))\n",
    "not_mrr = df_osm_hgm[df_osm_hgm['type'] != 'multipleRelation']['reference']\n",
    "not_mrt = df_osm_hgm[df_osm_hgm['type'] != 'multipleRelation']['target']\n",
    "change_index = list(set(not_mrr[not_mrr.isin(mrr)].index.to_list() + not_mrt[not_mrt.isin(mrt)].index.to_list()))\n",
    "df_osm_hgm.loc[change_index,'type'] = 'multipleRelation'"
   ]
  },
  {
   "cell_type": "code",
   "execution_count": 14,
   "metadata": {},
   "outputs": [],
   "source": [
    "# Import OSM and TOPO25K settlement area matching file as dataframe and edit column names\n",
    "\n",
    "df_osm_hgm_yer = pd.read_csv(\"data/match_osm_hgm_yer.csv\")[['fid_1','fid_2']]\n",
    "df_osm_hgm_yer.rename(columns={'fid_1':'reference','fid_2':'target'},inplace=True)"
   ]
  },
  {
   "cell_type": "code",
   "execution_count": 15,
   "metadata": {},
   "outputs": [],
   "source": [
    "# Calculate relation counts between features\n",
    "\n",
    "df_osm_hgm_yer['count_ref'] = df_osm_hgm_yer['reference'].map(df_osm_hgm_yer['reference'].value_counts())\n",
    "df_osm_hgm_yer['count_tar'] = df_osm_hgm_yer['target'].map(df_osm_hgm_yer['target'].value_counts())"
   ]
  },
  {
   "cell_type": "code",
   "execution_count": 16,
   "metadata": {},
   "outputs": [],
   "source": [
    "# Identify relation types\n",
    "\n",
    "a=[]\n",
    "for i,row in df_osm_hgm_yer.iterrows():\n",
    "    if row['count_ref'] == 1 and row['count_tar'] > 1:\n",
    "        a.append('isPartOf')\n",
    "    elif row['count_ref'] > 1 and row['count_tar'] == 1:\n",
    "        a.append('hasPart')\n",
    "        \n",
    "df_osm_hgm_yer['type'] = a"
   ]
  },
  {
   "cell_type": "code",
   "execution_count": 19,
   "metadata": {},
   "outputs": [],
   "source": [
    "# create resulting dataframes\n",
    "\n",
    "rel= pd.concat([df_ibb_osm, df_osm_hgm]).reset_index(drop=True)\n",
    "\n",
    "rel2 = df_osm_hgm_yer"
   ]
  },
  {
   "cell_type": "code",
   "execution_count": 21,
   "metadata": {},
   "outputs": [],
   "source": [
    "# Create relations types as RDF\n",
    "\n",
    "relations = ['idt:' + rel['reference'][i] + ' spo:' + rel['type'][i] + \n",
    "                 ' idt:' + rel['target'][i] + ' .' for i in range(len(rel))]\n",
    "\n",
    "relations2 = ['idt:' + rel2['reference'][i] + ' dul:' + rel2['type'][i] + \n",
    "                 ' idt:' + rel2['target'][i] + ' .' for i in range(len(rel2))]"
   ]
  },
  {
   "cell_type": "code",
   "execution_count": 22,
   "metadata": {},
   "outputs": [],
   "source": [
    "# Write RDFs to a file\n",
    "\n",
    "with open('data/relations.ttl', 'w') as output:\n",
    "        for i in range(len(relations)):\n",
    "            output.write('\\n' + relations[i] + '\\n')\n",
    "            \n",
    "        for i in range(len(relations2)):\n",
    "            output.write('\\n' + relations2[i] + '\\n')"
   ]
  }
 ],
 "metadata": {
  "kernelspec": {
   "display_name": "Python [conda env:myenv]",
   "language": "python",
   "name": "conda-env-myenv-py"
  },
  "language_info": {
   "codemirror_mode": {
    "name": "ipython",
    "version": 3
   },
   "file_extension": ".py",
   "mimetype": "text/x-python",
   "name": "python",
   "nbconvert_exporter": "python",
   "pygments_lexer": "ipython3",
   "version": "3.7.7"
  }
 },
 "nbformat": 4,
 "nbformat_minor": 4
}
